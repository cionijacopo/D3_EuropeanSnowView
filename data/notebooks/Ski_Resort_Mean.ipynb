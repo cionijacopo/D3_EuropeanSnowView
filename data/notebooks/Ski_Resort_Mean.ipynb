{
 "cells": [
  {
   "cell_type": "code",
   "execution_count": 18,
   "id": "baa03bb1-8595-4d6b-9028-b729f356d557",
   "metadata": {},
   "outputs": [],
   "source": [
    "import pandas as pd\n",
    "\n",
    "ski_resort = pd.read_csv('../European_Ski_Resorts.csv')\n",
    "\n",
    "# Raggruppa per paese e calcola le medie richieste\n",
    "aggregated_df = ski_resort.groupby(\"Country\").agg({\n",
    "    \"TotalSlope\": \"mean\",\n",
    "    \"TotalLifts\": \"mean\",\n",
    "    \"HighestPoint\": \"mean\",\n",
    "    \"DayPassPriceAdult\": \"mean\",\n",
    "    \"SnowCannons\": \"mean\"\n",
    "}).reset_index()\n",
    "\n",
    "# Rinomina le colonne per chiarezza\n",
    "aggregated_df.columns = [\n",
    "    \"Country\",\n",
    "    \"Avg_Total_Slopes\",\n",
    "    \"Avg_Total_Lifts\",\n",
    "    \"Avg_Highest_Point\",\n",
    "    \"Avg_Day_Pass_Price\",\n",
    "    \"Avg_Snow_Cannons\"\n",
    "]\n",
    "\n"
   ]
  },
  {
   "cell_type": "code",
   "execution_count": 19,
   "id": "0e725c55-e53d-4e38-8c0f-048952185f1a",
   "metadata": {},
   "outputs": [
    {
     "name": "stdout",
     "output_type": "stream",
     "text": [
      "Paesi non riconosciuti da pycountry:\n",
      "             Country  Avg_Total_Slopes  Avg_Total_Lifts  Avg_Highest_Point  \\\n",
      "18          Siberia               0.0             12.0            1270.00   \n",
      "21  Southern Russia              35.5             14.5            1614.25   \n",
      "\n",
      "    Avg_Day_Pass_Price  Avg_Snow_Cannons country_code  \n",
      "18                 0.0               0.0         None  \n",
      "21                19.0             112.5         None  \n"
     ]
    }
   ],
   "source": [
    "import pycountry \n",
    "\n",
    "# Funzione per ottenere il country code ISO alpha-2 da pycountry\n",
    "def get_country_code(country_name):\n",
    "    try:\n",
    "        return pycountry.countries.lookup(country_name).alpha_2\n",
    "    except LookupError:\n",
    "        return None\n",
    "\n",
    "# Applica la funzione al dataset media_df\n",
    "aggregated_df['country_code'] = aggregated_df['Country'].apply(get_country_code)\n",
    "\n",
    "# Visualizza i paesi per cui non è stato trovato un codice\n",
    "missing_codes = aggregated_df[aggregated_df['country_code'].isna()]\n",
    "print(\"Paesi non riconosciuti da pycountry:\\n\", missing_codes)"
   ]
  },
  {
   "cell_type": "code",
   "execution_count": 20,
   "id": "64bd9029-af5b-47a8-a78b-18884dabb403",
   "metadata": {},
   "outputs": [
    {
     "data": {
      "text/html": [
       "<div>\n",
       "<style scoped>\n",
       "    .dataframe tbody tr th:only-of-type {\n",
       "        vertical-align: middle;\n",
       "    }\n",
       "\n",
       "    .dataframe tbody tr th {\n",
       "        vertical-align: top;\n",
       "    }\n",
       "\n",
       "    .dataframe thead th {\n",
       "        text-align: right;\n",
       "    }\n",
       "</style>\n",
       "<table border=\"1\" class=\"dataframe\">\n",
       "  <thead>\n",
       "    <tr style=\"text-align: right;\">\n",
       "      <th></th>\n",
       "      <th>Country</th>\n",
       "      <th>Avg_Total_Slopes</th>\n",
       "      <th>Avg_Total_Lifts</th>\n",
       "      <th>Avg_Highest_Point</th>\n",
       "      <th>Avg_Day_Pass_Price</th>\n",
       "      <th>Avg_Snow_Cannons</th>\n",
       "      <th>country_code</th>\n",
       "    </tr>\n",
       "  </thead>\n",
       "  <tbody>\n",
       "    <tr>\n",
       "      <th>21</th>\n",
       "      <td>Southern Russia</td>\n",
       "      <td>35.5</td>\n",
       "      <td>14.5</td>\n",
       "      <td>1614.25</td>\n",
       "      <td>19.0</td>\n",
       "      <td>112.5</td>\n",
       "      <td>None</td>\n",
       "    </tr>\n",
       "  </tbody>\n",
       "</table>\n",
       "</div>"
      ],
      "text/plain": [
       "            Country  Avg_Total_Slopes  Avg_Total_Lifts  Avg_Highest_Point  \\\n",
       "21  Southern Russia              35.5             14.5            1614.25   \n",
       "\n",
       "    Avg_Day_Pass_Price  Avg_Snow_Cannons country_code  \n",
       "21                19.0             112.5         None  "
      ]
     },
     "execution_count": 20,
     "metadata": {},
     "output_type": "execute_result"
    }
   ],
   "source": [
    "# Cerca la riga che contiene 'Southern Russia' nel campo 'Country'\n",
    "southern_russia_row = aggregated_df[aggregated_df['Country'].str.contains('Southern Russia', case=False, na=False)]\n",
    "\n",
    "southern_russia_row"
   ]
  },
  {
   "cell_type": "code",
   "execution_count": 21,
   "id": "d17ce3c8-e67b-48c9-aabd-4d8eac8ae9e3",
   "metadata": {},
   "outputs": [
    {
     "data": {
      "text/plain": [
       "Country               Southern Russia\n",
       "Avg_Total_Slopes                 35.5\n",
       "Avg_Total_Lifts                  14.5\n",
       "Avg_Highest_Point             1614.25\n",
       "Avg_Day_Pass_Price               19.0\n",
       "Avg_Snow_Cannons                112.5\n",
       "country_code                       RU\n",
       "Name: 21, dtype: object"
      ]
     },
     "execution_count": 21,
     "metadata": {},
     "output_type": "execute_result"
    }
   ],
   "source": [
    "# Assegna 'RU' alla colonna country_code per la riga corrispondente a Southern Russia\n",
    "aggregated_df.at[21, 'country_code'] = 'RU'\n",
    "\n",
    "# Verifica la modifica\n",
    "aggregated_df.loc[21]"
   ]
  },
  {
   "cell_type": "code",
   "execution_count": 22,
   "id": "95459e97-9137-4504-8beb-2688517847b8",
   "metadata": {},
   "outputs": [
    {
     "data": {
      "text/html": [
       "<div>\n",
       "<style scoped>\n",
       "    .dataframe tbody tr th:only-of-type {\n",
       "        vertical-align: middle;\n",
       "    }\n",
       "\n",
       "    .dataframe tbody tr th {\n",
       "        vertical-align: top;\n",
       "    }\n",
       "\n",
       "    .dataframe thead th {\n",
       "        text-align: right;\n",
       "    }\n",
       "</style>\n",
       "<table border=\"1\" class=\"dataframe\">\n",
       "  <thead>\n",
       "    <tr style=\"text-align: right;\">\n",
       "      <th></th>\n",
       "      <th>Country</th>\n",
       "      <th>Avg_Total_Slopes</th>\n",
       "      <th>Avg_Total_Lifts</th>\n",
       "      <th>Avg_Highest_Point</th>\n",
       "      <th>Avg_Day_Pass_Price</th>\n",
       "      <th>Avg_Snow_Cannons</th>\n",
       "      <th>country_code</th>\n",
       "    </tr>\n",
       "  </thead>\n",
       "  <tbody>\n",
       "  </tbody>\n",
       "</table>\n",
       "</div>"
      ],
      "text/plain": [
       "Empty DataFrame\n",
       "Columns: [Country, Avg_Total_Slopes, Avg_Total_Lifts, Avg_Highest_Point, Avg_Day_Pass_Price, Avg_Snow_Cannons, country_code]\n",
       "Index: []"
      ]
     },
     "execution_count": 22,
     "metadata": {},
     "output_type": "execute_result"
    }
   ],
   "source": [
    "# Identifica la riga che contiene 'Siberia' nel campo 'Country'\n",
    "siberia_index = aggregated_df[aggregated_df['Country'].str.contains('Siberia', case=False, na=False)].index\n",
    "\n",
    "# Rimuovi la riga\n",
    "aggregated_df.drop(index=siberia_index, inplace=True)\n",
    "\n",
    "# Verifica che la riga sia stata rimossa\n",
    "aggregated_df[aggregated_df['Country'].str.contains('Siberia', case=False, na=False)]"
   ]
  },
  {
   "cell_type": "code",
   "execution_count": 23,
   "id": "242b008e-660c-430c-a965-81c49a9a7edf",
   "metadata": {},
   "outputs": [],
   "source": [
    "aggregated_df.drop(columns=['Country'], inplace=True)"
   ]
  },
  {
   "cell_type": "code",
   "execution_count": 24,
   "id": "1404db75-9a43-4fc2-9809-c7154f516b2d",
   "metadata": {},
   "outputs": [
    {
     "data": {
      "text/html": [
       "<div>\n",
       "<style scoped>\n",
       "    .dataframe tbody tr th:only-of-type {\n",
       "        vertical-align: middle;\n",
       "    }\n",
       "\n",
       "    .dataframe tbody tr th {\n",
       "        vertical-align: top;\n",
       "    }\n",
       "\n",
       "    .dataframe thead th {\n",
       "        text-align: right;\n",
       "    }\n",
       "</style>\n",
       "<table border=\"1\" class=\"dataframe\">\n",
       "  <thead>\n",
       "    <tr style=\"text-align: right;\">\n",
       "      <th></th>\n",
       "      <th>Avg_Total_Slopes</th>\n",
       "      <th>Avg_Total_Lifts</th>\n",
       "      <th>Avg_Highest_Point</th>\n",
       "      <th>Avg_Day_Pass_Price</th>\n",
       "      <th>Avg_Snow_Cannons</th>\n",
       "      <th>country_code</th>\n",
       "    </tr>\n",
       "  </thead>\n",
       "  <tbody>\n",
       "    <tr>\n",
       "      <th>0</th>\n",
       "      <td>144.600000</td>\n",
       "      <td>52.400000</td>\n",
       "      <td>2419.000000</td>\n",
       "      <td>43.000000</td>\n",
       "      <td>699.600000</td>\n",
       "      <td>AD</td>\n",
       "    </tr>\n",
       "    <tr>\n",
       "      <th>1</th>\n",
       "      <td>78.707865</td>\n",
       "      <td>28.235955</td>\n",
       "      <td>2089.247191</td>\n",
       "      <td>44.247191</td>\n",
       "      <td>310.134831</td>\n",
       "      <td>AT</td>\n",
       "    </tr>\n",
       "    <tr>\n",
       "      <th>2</th>\n",
       "      <td>25.000000</td>\n",
       "      <td>11.000000</td>\n",
       "      <td>1889.000000</td>\n",
       "      <td>20.000000</td>\n",
       "      <td>0.000000</td>\n",
       "      <td>BA</td>\n",
       "    </tr>\n",
       "    <tr>\n",
       "      <th>3</th>\n",
       "      <td>38.750000</td>\n",
       "      <td>14.750000</td>\n",
       "      <td>2334.000000</td>\n",
       "      <td>26.000000</td>\n",
       "      <td>167.500000</td>\n",
       "      <td>BG</td>\n",
       "    </tr>\n",
       "    <tr>\n",
       "      <th>4</th>\n",
       "      <td>16.000000</td>\n",
       "      <td>17.500000</td>\n",
       "      <td>1218.500000</td>\n",
       "      <td>28.500000</td>\n",
       "      <td>15.000000</td>\n",
       "      <td>CZ</td>\n",
       "    </tr>\n",
       "  </tbody>\n",
       "</table>\n",
       "</div>"
      ],
      "text/plain": [
       "   Avg_Total_Slopes  Avg_Total_Lifts  Avg_Highest_Point  Avg_Day_Pass_Price  \\\n",
       "0        144.600000        52.400000        2419.000000           43.000000   \n",
       "1         78.707865        28.235955        2089.247191           44.247191   \n",
       "2         25.000000        11.000000        1889.000000           20.000000   \n",
       "3         38.750000        14.750000        2334.000000           26.000000   \n",
       "4         16.000000        17.500000        1218.500000           28.500000   \n",
       "\n",
       "   Avg_Snow_Cannons country_code  \n",
       "0        699.600000           AD  \n",
       "1        310.134831           AT  \n",
       "2          0.000000           BA  \n",
       "3        167.500000           BG  \n",
       "4         15.000000           CZ  "
      ]
     },
     "execution_count": 24,
     "metadata": {},
     "output_type": "execute_result"
    }
   ],
   "source": [
    "aggregated_df.head()"
   ]
  },
  {
   "cell_type": "code",
   "execution_count": 25,
   "id": "a4802120-462d-4edf-8df1-6d01cec54608",
   "metadata": {},
   "outputs": [],
   "source": [
    "aggregated_df.to_csv(\"media_per_country.csv\", index=False)"
   ]
  },
  {
   "cell_type": "code",
   "execution_count": null,
   "id": "d6495a78-507a-42eb-9494-acf73b92a37a",
   "metadata": {},
   "outputs": [],
   "source": []
  }
 ],
 "metadata": {
  "kernelspec": {
   "display_name": "venv",
   "language": "python",
   "name": "venv"
  },
  "language_info": {
   "codemirror_mode": {
    "name": "ipython",
    "version": 3
   },
   "file_extension": ".py",
   "mimetype": "text/x-python",
   "name": "python",
   "nbconvert_exporter": "python",
   "pygments_lexer": "ipython3",
   "version": "3.12.6"
  }
 },
 "nbformat": 4,
 "nbformat_minor": 5
}
